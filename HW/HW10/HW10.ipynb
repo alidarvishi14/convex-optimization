{
 "cells": [
  {
   "cell_type": "markdown",
   "metadata": {},
   "source": [
    "# HW10"
   ]
  },
  {
   "cell_type": "markdown",
   "metadata": {},
   "source": [
    "## alireza darvishi 96109674"
   ]
  },
  {
   "cell_type": "markdown",
   "metadata": {},
   "source": [
    "### 3.3:"
   ]
  },
  {
   "cell_type": "markdown",
   "metadata": {},
   "source": [
    "loading libraries and declaring Variables"
   ]
  },
  {
   "cell_type": "code",
   "execution_count": 1,
   "metadata": {},
   "outputs": [],
   "source": [
    "import cvxpy as cp\n",
    "import numpy as np\n",
    "import matplotlib.pyplot as plt\n",
    "x = cp.Variable()\n",
    "y = cp.Variable()\n",
    "z = cp.Variable()"
   ]
  },
  {
   "cell_type": "markdown",
   "metadata": {},
   "source": [
    "(a) cp.norm( [ x + 2 * y , x  -  y] ) == 0 <br>\n",
    "(b) square ( square ( x + y ) ) <= x - y <br>\n",
    "(c) 1/x  +  1/y <= 1 ; x >= 0 ; y >= 0 <br>\n",
    "(d) norm( [ max( x , 1 ) , max ( y , 2 ) ] ) <= 3 * x + y<br>\n",
    "(e) x * y >= 1 ; x >= 0 ; y >= 0<br>\n",
    "(f) ( x + y )^2/sqrt(y) <= x - y + 5<br>\n",
    "(g) x^3 + y^3 <= 1 ; x >= 0 ; y >= 0<br>\n",
    "(h) x + z <= 1 + sqrt( x * y - z^2 ) ; x >= 0 ; y >= 0<br>"
   ]
  },
  {
   "cell_type": "markdown",
   "metadata": {},
   "source": [
    "a)<br>\n",
    "first we introduce a new variable t with help from np array<br>\n",
    "then we set inequality of norm( t ) $\\leq$ 0 because setting norm( t ) == 0 is not dcp and left hand is not affien but norm ( t ) $\\geq$ holds already "
   ]
  },
  {
   "cell_type": "code",
   "execution_count": 2,
   "metadata": {},
   "outputs": [
    {
     "name": "stdout",
     "output_type": "stream",
     "text": [
      "True\n",
      "-4.841433171885098e-10\n"
     ]
    }
   ],
   "source": [
    "t=x*[1,1]+y*[2,-1]\n",
    "constrain  = (cp.norm(x) <= 0)\n",
    "print(constrain.is_dcp())\n",
    "prob = cp.Problem(cp.Minimize(x),[constrain])\n",
    "print(prob.solve())"
   ]
  },
  {
   "cell_type": "markdown",
   "metadata": {},
   "source": [
    "b)<br>\n",
    "replace square of square with power function"
   ]
  },
  {
   "cell_type": "code",
   "execution_count": 3,
   "metadata": {},
   "outputs": [
    {
     "name": "stdout",
     "output_type": "stream",
     "text": [
      "True\n",
      "-0.23623519704504156\n"
     ]
    }
   ],
   "source": [
    "constrain  = (cp.power((x+y),4) <= x-y)\n",
    "print(constrain.is_dcp())\n",
    "prob = cp.Problem(cp.Minimize(x),[constrain])\n",
    "print(prob.solve())"
   ]
  },
  {
   "cell_type": "markdown",
   "metadata": {},
   "source": [
    "c)<br>\n",
    "declare $2 \\times 1$ vector t with x and y in each <br>\n",
    "replace 1/x + 1/y with harmonic_mean function"
   ]
  },
  {
   "cell_type": "code",
   "execution_count": 4,
   "metadata": {},
   "outputs": [
    {
     "name": "stdout",
     "output_type": "stream",
     "text": [
      "True\n",
      "1.0004149249896446\n"
     ]
    }
   ],
   "source": [
    "t=x*[1,0]+y*[0,1]\n",
    "constraints = [cp.harmonic_mean(t)>=2, x >= 0, y >= 0]\n",
    "print(constraints[0].is_dcp())\n",
    "prob = cp.Problem(cp.Minimize(x),constraints)\n",
    "print(prob.solve())"
   ]
  },
  {
   "cell_type": "markdown",
   "metadata": {},
   "source": [
    "d)<br>\n",
    "t = max ( 1, x ) so 1<=t and x<=t<br>\n",
    "u = max ( y, 2 ) so y<=u and 2<=u <br>\n",
    "finally v=[u,t] and norm(c)<= 3*x+y"
   ]
  },
  {
   "cell_type": "code",
   "execution_count": 5,
   "metadata": {},
   "outputs": [
    {
     "name": "stdout",
     "output_type": "stream",
     "text": [
      "-inf\n"
     ]
    }
   ],
   "source": [
    "t=cp.Variable()\n",
    "u=cp.Variable()\n",
    "v=t*[1,0]+u*[0,1]\n",
    "constraints = [1<=t , x<=t , y <= u , 2 <= u , cp.norm(v)<=3*x+y]\n",
    "prob = cp.Problem(cp.Minimize(y),constraints)\n",
    "print(prob.solve())"
   ]
  },
  {
   "cell_type": "markdown",
   "metadata": {},
   "source": [
    "e)<br>\n",
    "x>=1/y"
   ]
  },
  {
   "cell_type": "code",
   "execution_count": 6,
   "metadata": {},
   "outputs": [
    {
     "name": "stdout",
     "output_type": "stream",
     "text": [
      "0.00033978381252083774\n"
     ]
    }
   ],
   "source": [
    "constraints = [x>=pow(y,-1),x>=0 , y>= 0]\n",
    "prob = cp.Problem(cp.Minimize(x),constraints)\n",
    "print(prob.solve())"
   ]
  },
  {
   "cell_type": "markdown",
   "metadata": {},
   "source": [
    "f)"
   ]
  },
  {
   "cell_type": "code",
   "execution_count": 7,
   "metadata": {},
   "outputs": [
    {
     "name": "stdout",
     "output_type": "stream",
     "text": [
      "-2.6766326052203664\n"
     ]
    }
   ],
   "source": [
    "t=(x+y)\n",
    "u=cp.sqrt(y)\n",
    "v=cp.quad_over_lin(t,u)\n",
    "constraints = [v<=x-y+5]\n",
    "prob = cp.Problem(cp.Minimize(x),constraints)\n",
    "print(prob.solve())"
   ]
  },
  {
   "cell_type": "markdown",
   "metadata": {},
   "source": [
    "g)<br>\n",
    "simply use p-norm with p=3"
   ]
  },
  {
   "cell_type": "code",
   "execution_count": 8,
   "metadata": {},
   "outputs": [
    {
     "name": "stdout",
     "output_type": "stream",
     "text": [
      "-9.08091690198461e-12\n"
     ]
    }
   ],
   "source": [
    "t=x*[1,0]+y*[0,1]\n",
    "constraints = [cp.norm(t,3) <= 1, x >= 0, y >= 0]\n",
    "prob = cp.Problem(cp.Minimize(x),constraints)\n",
    "print(prob.solve())"
   ]
  },
  {
   "cell_type": "markdown",
   "metadata": {},
   "source": [
    "h)<br>\n",
    "t = $z^2$/y <br>\n",
    "u = $\\sqrt{y(x-t)}$ <br>\n",
    "x+z <= 1+u<br>\n",
    "and all expressions are dcp"
   ]
  },
  {
   "cell_type": "code",
   "execution_count": 9,
   "metadata": {},
   "outputs": [
    {
     "name": "stdout",
     "output_type": "stream",
     "text": [
      "1.508057932883562e-09\n"
     ]
    }
   ],
   "source": [
    "t=cp.quad_over_lin(z,y)\n",
    "u=cp.geo_mean( (x-t)*[1,0]+y*[0,1])\n",
    "constraints=[x+z <= 1+u ]\n",
    "prob = cp.Problem(cp.Minimize(x),constraints)\n",
    "print(prob.solve())"
   ]
  },
  {
   "cell_type": "markdown",
   "metadata": {},
   "source": [
    "### 3.32 c"
   ]
  },
  {
   "cell_type": "code",
   "execution_count": 10,
   "metadata": {},
   "outputs": [
    {
     "name": "stdout",
     "output_type": "stream",
     "text": [
      "optimal value is: -8.454464943573852\n",
      "lambda is: 282.9846637002597\n",
      "number of satisfied constraints: 66\n",
      "new optimal value: -8.891600097480849\n"
     ]
    }
   ],
   "source": [
    "from satisfy_some_constraints_data import *\n",
    "\n",
    "x = cp.Variable(n)\n",
    "v = cp.Variable()\n",
    "objective = cp.Minimize(c.T @ x)\n",
    "constraints = [ v >=0 , cp.sum(cp.pos( v+ A @ x - b ))<= (m-k)*v ]\n",
    "prob = cp.Problem( objective ,constraints )\n",
    "print(\"optimal value is:\",prob.solve())\n",
    "print(\"lambda is:\",1/v.value)\n",
    "print(\"number of satisfied constraints:\", sum( A @ x.value - b <= 10**-5))\n",
    "\n",
    "idx = np.argsort(A @ x.value - b)[:k]\n",
    "new_const = [ (A @ x - b)[idx[:-2]]<= 0 ]\n",
    "new_prob = cp.Problem (objective , new_const )\n",
    "print(\"new optimal value:\",new_prob.solve())"
   ]
  },
  {
   "cell_type": "markdown",
   "metadata": {},
   "source": [
    "### 6.5 b"
   ]
  },
  {
   "cell_type": "code",
   "execution_count": 11,
   "metadata": {},
   "outputs": [
    {
     "name": "stdout",
     "output_type": "stream",
     "text": [
      "x estimation is: [ 0.48194427 -0.46569465  0.9364119   0.92966369]\n"
     ]
    },
    {
     "data": {
      "image/png": "[encoded data removed]",
      "text/plain": [
       "<Figure size 432x288 with 1 Axes>"
      ]
     },
     "metadata": {
      "needs_background": "light"
     },
     "output_type": "display_data"
    }
   ],
   "source": [
    "from nonlin_meas_data import *\n",
    "x = cp.Variable(n)\n",
    "z = cp.Variable(m)\n",
    "objective = cp.Minimize( cp.norm( z - A @ x ) )\n",
    "constraints = [ z[1:]-z[:-1] <= (y[1:]-y[:-1])/alpha , z[1:]-z[:-1] >= (y[1:]-y[:-1])/beta ]\n",
    "prob = cp.Problem( objective ,constraints )\n",
    "prob.solve()\n",
    "print(\"x estimation is:\", x.value)\n",
    "plt.plot(z.value,y);\n",
    "plt.ylabel(\"y\");\n",
    "plt.xlabel(\"z\");"
   ]
  }
 ],
 "metadata": {
  "kernelspec": {
   "display_name": "Python 3",
   "language": "python",
   "name": "python3"
  },
  "language_info": {
   "codemirror_mode": {
    "name": "ipython",
    "version": 3
   },
   "file_extension": ".py",
   "mimetype": "text/x-python",
   "name": "python",
   "nbconvert_exporter": "python",
   "pygments_lexer": "ipython3",
   "version": "3.7.3"
  }
 },
 "nbformat": 4,
 "nbformat_minor": 2
}
