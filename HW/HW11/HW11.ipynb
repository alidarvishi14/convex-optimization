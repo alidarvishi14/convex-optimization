{
 "cells": [
  {
   "cell_type": "markdown",
   "metadata": {},
   "source": [
    "# HW11"
   ]
  },
  {
   "cell_type": "markdown",
   "metadata": {},
   "source": [
    "## alireza darvishi 96109674"
   ]
  },
  {
   "cell_type": "markdown",
   "metadata": {},
   "source": [
    "### 3.18"
   ]
  },
  {
   "cell_type": "code",
   "execution_count": 1,
   "metadata": {},
   "outputs": [],
   "source": [
    "import numpy as np\n",
    "import cvxpy as cp\n",
    "import matplotlib.pylab as plt\n",
    "import pandas as pd\n",
    "\n",
    "np.random.seed(0)\n",
    "(m, n) = (300, 100)\n",
    "A = np.random.rand(m, n)\n",
    "A = np.asmatrix(A)\n",
    "b = A.dot(np.ones((n, 1))) / 2\n",
    "b = np.asmatrix(b)\n",
    "b = np.array(b).reshape(300,)\n",
    "c = -np.random.rand(n, 1)\n",
    "c = np.asmatrix(c)"
   ]
  },
  {
   "cell_type": "code",
   "execution_count": 2,
   "metadata": {},
   "outputs": [
    {
     "name": "stdout",
     "output_type": "stream",
     "text": [
      "L is: -34.41722425996279\n"
     ]
    }
   ],
   "source": [
    "x = cp.Variable(n)\n",
    "objective = cp.Minimize(c.T @ x)\n",
    "constraints = [A @ x - b <= 0, 0 <= x, x <= 1]\n",
    "problem = cp.Problem(objective, constraints)\n",
    "print(\"L is:\", problem.solve())"
   ]
  },
  {
   "cell_type": "code",
   "execution_count": 3,
   "metadata": {},
   "outputs": [
    {
     "name": "stdout",
     "output_type": "stream",
     "text": [
      "optimal threshold: 0.56\n",
      "U-L =  0.8399729146557675\n"
     ]
    },
    {
     "data": {
      "image/png": "[encoded data removed]",
      "text/plain": [
       "<Figure size 1080x720 with 1 Axes>"
      ]
     },
     "metadata": {
      "needs_background": "light"
     },
     "output_type": "display_data"
    }
   ],
   "source": [
    "k = 250\n",
    "t = np.linspace(0, 1, k + 1)\n",
    "slack = np.zeros(k + 1)\n",
    "sol = np.zeros(k + 1)\n",
    "for tresh in t:\n",
    "    i = int(k * tresh)\n",
    "    xrlx = (x.value >= tresh) * 1\n",
    "    slack[i] = (A @ xrlx - b).max()\n",
    "    sol[i] = c.T @ xrlx\n",
    "plt.figure(figsize=(15, 10))\n",
    "plt.plot(t[slack <= 0], sol[slack <= 0], c=\"blue\", label=\"feasible\")\n",
    "plt.plot(t[slack > 0], sol[slack > 0], c=\"red\", label=\"not feasible\")\n",
    "plt.plot(\n",
    "    [0, 1],\n",
    "    [problem.value, problem.value],\n",
    "    c=\"green\",\n",
    "    label=\"relaxed optimal value\",\n",
    "    ls=\"--\",\n",
    ")\n",
    "plt.ylabel(\"cost value\")\n",
    "plt.xlabel(\"treshold value\")\n",
    "idx = np.argmin(sol[slack <= 0])\n",
    "t_min = t[slack <= 0][idx]\n",
    "plt.plot(\n",
    "    t_min,\n",
    "    min((sol[slack <= 0])),\n",
    "    marker=\"*\",\n",
    "    c=\"orange\",\n",
    "    ms=9,\n",
    "    label=\"Boolean LP optimal value\",\n",
    ")\n",
    "plt.legend(loc=2)\n",
    "print(\"optimal threshold:\", round(t_min, 2))\n",
    "print(\"U-L = \", min((sol[slack <= 0])) - problem.value)"
   ]
  },
  {
   "cell_type": "markdown",
   "metadata": {},
   "source": [
    "### 3.20"
   ]
  },
  {
   "cell_type": "code",
   "execution_count": 4,
   "metadata": {
    "scrolled": false
   },
   "outputs": [
    {
     "name": "stdout",
     "output_type": "stream",
     "text": [
      "optimal value for fuel consumption is: 2617.825193529012\n"
     ]
    },
    {
     "data": {
      "text/plain": [
       "[<matplotlib.lines.Line2D at 0x81d3c25c0>]"
      ]
     },
     "execution_count": 4,
     "metadata": {},
     "output_type": "execute_result"
    },
    {
     "data": {
      "image/png": "[encoded data removed]",
      "text/plain": [
       "<Figure size 1080x720 with 1 Axes>"
      ]
     },
     "metadata": {
      "needs_background": "light"
     },
     "output_type": "display_data"
    }
   ],
   "source": [
    "from veh_speed_sched_data import *\n",
    "\n",
    "t = cp.Variable(n)\n",
    "fuel = (\n",
    "    a * cp.multiply(cp.square(cp.reshape(d, (100,))), cp.inv_pos(t))\n",
    "    + b * cp.reshape(d, (n,))\n",
    "    + c * t\n",
    ")\n",
    "objective = cp.Minimize(sum(fuel))\n",
    "constraints = [\n",
    "    t <= cp.reshape(d / smin, (n,)),\n",
    "    t >= cp.reshape(d / smax, (n,)),\n",
    "    cp.cumsum(t) <= cp.reshape(tau_max, (n,)),\n",
    "    cp.cumsum(t) >= cp.reshape(tau_min, (n,)),\n",
    "]\n",
    "problem = cp.Problem(objective, constraints)\n",
    "print(\"optimal value for fuel consumption is:\", problem.solve())\n",
    "s = np.array(d).reshape(n,) / t.value\n",
    "plt.figure(figsize=(15, 10))\n",
    "plt.step(np.arange(n), s)"
   ]
  },
  {
   "cell_type": "markdown",
   "metadata": {},
   "source": [
    "### 3.28"
   ]
  },
  {
   "cell_type": "code",
   "execution_count": 5,
   "metadata": {},
   "outputs": [
    {
     "name": "stdout",
     "output_type": "stream",
     "text": [
      "P(X4=1) is in range: 0.48 to 0.61\n"
     ]
    }
   ],
   "source": [
    "p = cp.Variable(16)\n",
    "idx = [np.binary_repr(i, width=4) for i in range(16)]\n",
    "max_objective = cp.Maximize(\n",
    "    sum(p[index] for index in np.array([1, 3, 5, 7, 9, 11, 13, 15]))\n",
    ")\n",
    "min_objective = cp.Minimize(\n",
    "    sum(p[index] for index in np.array([1, 3, 5, 7, 9, 11, 13, 15]))\n",
    ")\n",
    "constraints = [p >= 0, sum(p) == 1]\n",
    "constraints += [\n",
    "    sum(p[index] for index in np.array([8, 9, 10, 11, 12, 13, 14, 15])) == 0.9\n",
    "]\n",
    "constraints += [\n",
    "    sum(p[index] for index in np.array([4, 5, 6, 7, 12, 13, 14, 15])) == 0.9\n",
    "]\n",
    "constraints += [\n",
    "    sum(p[index] for index in np.array([2, 3, 6, 7, 10, 11, 14, 15])) == 0.1\n",
    "]\n",
    "constraints += [sum(p[index] for index in np.array([10, 14])) == 0.7 * 0.1]\n",
    "constraints += [\n",
    "    sum(p[index] for index in np.array([5, 13]))\n",
    "    == 0.6 * sum(p[index] for index in np.array([4, 5, 12, 13]))\n",
    "]\n",
    "max_problem = cp.Problem(max_objective, constraints)\n",
    "max_problem.solve()\n",
    "min_problem = cp.Problem(min_objective, constraints)\n",
    "min_problem.solve()\n",
    "print(\n",
    "    \"P(X4=1) is in range:\",\n",
    "    round(min_problem.value, 2),\n",
    "    \"to\",\n",
    "    round(max_problem.value, 2),\n",
    ")"
   ]
  },
  {
   "cell_type": "markdown",
   "metadata": {},
   "source": [
    "### 4.1"
   ]
  },
  {
   "cell_type": "markdown",
   "metadata": {},
   "source": [
    "#### a"
   ]
  },
  {
   "cell_type": "code",
   "execution_count": 6,
   "metadata": {},
   "outputs": [
    {
     "name": "stdout",
     "output_type": "stream",
     "text": [
      "x values are: [-2.33333333  0.16666667]\n",
      "lambda values are: [2.74774125 2.88523345 0.04007173]\n",
      "p* value is: 8.222222222222223\n",
      "KKT:\n",
      "1st: primal constraints [ True  True  True]\n",
      "2nd: dual constraints [ True  True  True]\n",
      "3rd: complementary slackness [ True  True  True]\n",
      "4th: gradient of Lagrangian with respect to x vanishes [ True  True]\n"
     ]
    }
   ],
   "source": [
    "x = cp.Variable(2)\n",
    "u1 = cp.Parameter(value=-2)\n",
    "u2 = cp.Parameter(value=-3)\n",
    "P = np.array([[2, -1], [-1, 4]])\n",
    "q = np.array([-1, 0])\n",
    "objective = cp.Minimize(cp.quad_form(x, P) / 2 + q.T * x)\n",
    "A = np.array([[1, 2], [1, -4], [5, 76]])\n",
    "b = u1 * [1, 0, 0] + u2 * [0, 1, 0] + [0, 0, 1]\n",
    "constraints = [A @ x <= b]\n",
    "problem = cp.Problem(objective, constraints)\n",
    "pstar = problem.solve()\n",
    "lambdas = constraints[0].dual_value\n",
    "print(\"x values are:\", x.value)\n",
    "print(\"lambda values are:\", lambdas)\n",
    "print(\"p* value is:\", pstar)\n",
    "print(\"KKT:\")\n",
    "print(\"1st: primal constraints\", A @ x.value - b.value <= 10 ** -10)\n",
    "print(\"2nd: dual constraints\", constraints[0].dual_value >= 0)\n",
    "print(\n",
    "    \"3rd: complementary slackness\",\n",
    "    abs(constraints[0].dual_value * (A @ x.value - b.value)) <= 10 ** -10,\n",
    ")\n",
    "print(\n",
    "    \"4th: gradient of Lagrangian with respect to x vanishes\",\n",
    "    abs(P @ x.value + q + A.T @ constraints[0].dual_value) <= 10 ** -10,\n",
    ")"
   ]
  },
  {
   "cell_type": "markdown",
   "metadata": {},
   "source": [
    "#### b"
   ]
  },
  {
   "cell_type": "code",
   "execution_count": 7,
   "metadata": {},
   "outputs": [
    {
     "name": "stdout",
     "output_type": "stream",
     "text": [
      "True\n"
     ]
    }
   ],
   "source": [
    "data = np.zeros((9, 4))\n",
    "row = 0\n",
    "for del1 in (0, -0.1, 0.1):\n",
    "    for del2 in (0, -0.1, 0.1):\n",
    "        pred = pstar - lambdas @ [del1, del2, 0]\n",
    "        u1.value = -2 + del1\n",
    "        u2.value = -3 + del2\n",
    "        exact = problem.solve()\n",
    "        data[row, :] = (del1, del2, round(pred, 2), round(exact, 2))\n",
    "        row += 1\n",
    "print((data[:, 2] - data[:, 3] <= 0).all())"
   ]
  },
  {
   "cell_type": "code",
   "execution_count": 8,
   "metadata": {},
   "outputs": [
    {
     "data": {
      "text/html": [
       "<div>\n",
       "<style scoped>\n",
       "    .dataframe tbody tr th:only-of-type {\n",
       "        vertical-align: middle;\n",
       "    }\n",
       "\n",
       "    .dataframe tbody tr th {\n",
       "        vertical-align: top;\n",
       "    }\n",
       "\n",
       "    .dataframe thead th {\n",
       "        text-align: right;\n",
       "    }\n",
       "</style>\n",
       "<table border=\"1\" class=\"dataframe\">\n",
       "  <thead>\n",
       "    <tr style=\"text-align: right;\">\n",
       "      <th></th>\n",
       "      <th>delta1</th>\n",
       "      <th>delta2</th>\n",
       "      <th>pred</th>\n",
       "      <th>exact</th>\n",
       "    </tr>\n",
       "  </thead>\n",
       "  <tbody>\n",
       "    <tr>\n",
       "      <th>0</th>\n",
       "      <td>0.0</td>\n",
       "      <td>0.0</td>\n",
       "      <td>8.22</td>\n",
       "      <td>8.22</td>\n",
       "    </tr>\n",
       "    <tr>\n",
       "      <th>1</th>\n",
       "      <td>0.0</td>\n",
       "      <td>-0.1</td>\n",
       "      <td>8.51</td>\n",
       "      <td>8.71</td>\n",
       "    </tr>\n",
       "    <tr>\n",
       "      <th>2</th>\n",
       "      <td>0.0</td>\n",
       "      <td>0.1</td>\n",
       "      <td>7.93</td>\n",
       "      <td>7.98</td>\n",
       "    </tr>\n",
       "    <tr>\n",
       "      <th>3</th>\n",
       "      <td>-0.1</td>\n",
       "      <td>0.0</td>\n",
       "      <td>8.50</td>\n",
       "      <td>8.57</td>\n",
       "    </tr>\n",
       "    <tr>\n",
       "      <th>4</th>\n",
       "      <td>-0.1</td>\n",
       "      <td>-0.1</td>\n",
       "      <td>8.79</td>\n",
       "      <td>8.82</td>\n",
       "    </tr>\n",
       "    <tr>\n",
       "      <th>5</th>\n",
       "      <td>-0.1</td>\n",
       "      <td>0.1</td>\n",
       "      <td>8.21</td>\n",
       "      <td>8.32</td>\n",
       "    </tr>\n",
       "    <tr>\n",
       "      <th>6</th>\n",
       "      <td>0.1</td>\n",
       "      <td>0.0</td>\n",
       "      <td>7.95</td>\n",
       "      <td>8.22</td>\n",
       "    </tr>\n",
       "    <tr>\n",
       "      <th>7</th>\n",
       "      <td>0.1</td>\n",
       "      <td>-0.1</td>\n",
       "      <td>8.24</td>\n",
       "      <td>8.71</td>\n",
       "    </tr>\n",
       "    <tr>\n",
       "      <th>8</th>\n",
       "      <td>0.1</td>\n",
       "      <td>0.1</td>\n",
       "      <td>7.66</td>\n",
       "      <td>7.75</td>\n",
       "    </tr>\n",
       "  </tbody>\n",
       "</table>\n",
       "</div>"
      ],
      "text/plain": [
       "   delta1  delta2  pred  exact\n",
       "0     0.0     0.0  8.22   8.22\n",
       "1     0.0    -0.1  8.51   8.71\n",
       "2     0.0     0.1  7.93   7.98\n",
       "3    -0.1     0.0  8.50   8.57\n",
       "4    -0.1    -0.1  8.79   8.82\n",
       "5    -0.1     0.1  8.21   8.32\n",
       "6     0.1     0.0  7.95   8.22\n",
       "7     0.1    -0.1  8.24   8.71\n",
       "8     0.1     0.1  7.66   7.75"
      ]
     },
     "execution_count": 8,
     "metadata": {},
     "output_type": "execute_result"
    }
   ],
   "source": [
    "pd.DataFrame(data, columns=[\"delta1\", \"delta2\", \"pred\", \"exact\"])"
   ]
  },
  {
   "cell_type": "code",
   "execution_count": 10,
   "metadata": {},
   "outputs": [
    {
     "data": {
      "text/plain": [
       "Inequality(Variable((100,)))"
      ]
     },
     "execution_count": 10,
     "metadata": {},
     "output_type": "execute_result"
    }
   ],
   "source": [
    "t<=cp.reshape(smin,(n,))\n",
    "t<=np.array(smin).reshape((n,))"
   ]
  },
  {
   "cell_type": "code",
   "execution_count": null,
   "metadata": {},
   "outputs": [],
   "source": []
  }
 ],
 "metadata": {
  "kernelspec": {
   "display_name": "Python 3",
   "language": "python",
   "name": "python3"
  },
  "language_info": {
   "codemirror_mode": {
    "name": "ipython",
    "version": 3
   },
   "file_extension": ".py",
   "mimetype": "text/x-python",
   "name": "python",
   "nbconvert_exporter": "python",
   "pygments_lexer": "ipython3",
   "version": "3.7.3"
  }
 },
 "nbformat": 4,
 "nbformat_minor": 2
}
